{
 "cells": [
  {
   "cell_type": "markdown",
   "metadata": {},
   "source": [
    "# HW 4|Problem 3\n",
    "\n",
    "Use the linalg package, LU decompositin, and GaussSeidel method to solve 2y+z=-8, x-2y-3z=0, -x+y+2z=3."
   ]
  },
  {
   "cell_type": "code",
   "execution_count": 1,
   "metadata": {},
   "outputs": [],
   "source": []
  },
  {
   "cell_type": "code",
   "execution_count": 98,
   "metadata": {},
   "outputs": [
    {
     "name": "stdout",
     "output_type": "stream",
     "text": [
      "[[ 1 -2 -3]\n",
      " [ 0  2  1]\n",
      " [-1  1  2]] [ 0 -8  3]\n"
     ]
    }
   ],
   "source": [
    "#First, record the 2 matrices that matter\n",
    "\n",
    "import numpy as np\n",
    "\n",
    "equation = np.array([[1,-2,-3],[0,2,1],[-1,1,2]])\n",
    "answer = np.array([0,-8,3])\n",
    "print(equation, answer)"
   ]
  },
  {
   "cell_type": "code",
   "execution_count": 99,
   "metadata": {},
   "outputs": [
    {
     "name": "stdout",
     "output_type": "stream",
     "text": [
      "x = [-4. -5.  2.]\n",
      "Time  0.0\n"
     ]
    }
   ],
   "source": [
    "#solve system above using linalg package\n",
    "\n",
    "import time\n",
    "\n",
    "start_time = time.time()\n",
    "solution = np.linalg.solve(equation,answer)\n",
    "t = time.time() - start_time\n",
    "print('x =',solution)\n",
    "print('Time ', t)"
   ]
  },
  {
   "cell_type": "code",
   "execution_count": 100,
   "metadata": {},
   "outputs": [
    {
     "name": "stdout",
     "output_type": "stream",
     "text": [
      "x = [-4. -5.  2.]\n",
      "Time  0.0\n"
     ]
    }
   ],
   "source": [
    "#solve system using LU decomposition: I've ripped the LU code from the Lecture\n",
    "\n",
    "import numpy as np\n",
    "#============================================================================\n",
    "def LUFactor(a, ipivot, n):\n",
    "# Copy right, code from Titus textbook. \n",
    "#----------------------------------------------------------------------------\n",
    "#  Performs LU factorization of (n x n) matrix a (diag(L) = 1). On exit,\n",
    "#  replaces upper triangle and diagonal with U, and lower triangle, with L.\n",
    "#  Uses partial pivoting on columns.\n",
    "#  a      - coefficient matrix (n x n); LU decomposition on exit\n",
    "#  ipivot - array of pivot row indexes (output)\n",
    "#  det    - determinant of coefficient matrix (output).\n",
    "#----------------------------------------------------------------------------\n",
    "   det = 1e0\n",
    "   for j in range(n):                                 # loop over columns\n",
    "      for i in range(j):                             # elements of matrix U\n",
    "         sum = a[i][j]\n",
    "         for k in range(i): sum -= a[i][k]*a[k][j]\n",
    "         a[i][j] = sum\n",
    "\n",
    "      amax = 0e0\n",
    "      for i in range(j,n):                           # elements of matrix L\n",
    "         sum = a[i][j]                                 # undivided by pivot\n",
    "         for k in range(j): sum -= a[i][k]*a[k][j]\n",
    "         a[i][j] = sum\n",
    "                                                            # determine pivot\n",
    "         if (amax < np.fabs(a[i][j])): amax = np.fabs(a[i][j]); imax = i\n",
    "\n",
    "      if (amax == 0e0): print(\"LUFactor: singular matrix !\"); return 0e0\n",
    "\n",
    "      ipivot[j] = imax                                # store pivot row index\n",
    "                                                # interchange rows imax and j\n",
    "      if (imax != j):                           # to put pivot on diagonal\n",
    "         det = -det\n",
    "         for k in range(n):\n",
    "            t = a[imax][k]; a[imax][k] = a[j][k]; a[j][k] = t\n",
    "\n",
    "      det *= a[j][j]                        # multiply determinant with pivot\n",
    "\n",
    "      t = 1e0/a[j][j]                         # divide elements of L by pivot\n",
    "      for i in range(j+1,n): a[i][j] *= t\n",
    "\n",
    "   return det\n",
    "\n",
    "#============================================================================\n",
    "def LUSystem(a, ipivot, b, n):\n",
    "# Copy right, code from Titus textbook. \n",
    "#----------------------------------------------------------------------------\n",
    "#  Solves linear system a x = b of order n by LU factorization.\n",
    "#  a      - LU decomposition of coefficient matrix (returned by LUFactor)\n",
    "#  ipivot - array of pivot row indexes (input)\n",
    "#  b      - vector of constant terms (input); solution x (on exit)\n",
    "#----------------------------------------------------------------------------\n",
    "   for i in range(n):                                     # solves Ly = b\n",
    "      sum = b[int(ipivot[i])]\n",
    "      b[int(ipivot[i])] = b[i]\n",
    "      for j in range(i): sum -= a[i][j]*b[j]\n",
    "      b[i] = sum\n",
    "\n",
    "   for i in range(n-1,-1,-1):                                    # solves Ux = y\n",
    "      sum = b[i]\n",
    "      for j in range(i+1,n): sum -= a[i][j]*b[j]\n",
    "      b[i] = sum/a[i][i]\n",
    "\n",
    "equation = np.array([[0.,2.,1.],[1.,-2.,-3.],[-1.,1.,2.]])\n",
    "answer = np.array([-8.,0.,3.])\n",
    "#print(equation, answer)    \n",
    "    \n",
    "equation_copy=np.copy(equation)    #deep copy of an array\n",
    "answer_copy=np.copy(answer)    #deep copy of an array\n",
    "ipivot=np.zeros(3)\n",
    "\n",
    "start_time = time.time()\n",
    "\n",
    "de=LUFactor(equation,ipivot,3)\n",
    "LUSystem(equation,ipivot,answer,3)\n",
    "\n",
    "t = time.time() - start_time\n",
    "print('x =',answer)\n",
    "print('Time ', t)\n",
    "#I learned the hard way that if you input integers the final answer is wrong. Must use float"
   ]
  },
  {
   "cell_type": "code",
   "execution_count": 101,
   "metadata": {},
   "outputs": [
    {
     "name": "stdout",
     "output_type": "stream",
     "text": [
      "x= [-4. -5.  2.]\n",
      "Time 0.032911062240600586\n"
     ]
    }
   ],
   "source": [
    "#solve system using GaussSeidel method.\n",
    "\n",
    "#============================================================================\n",
    "def GaussSeidel(a, b, x, n, init):\n",
    "# Copy right, code from Titus textbook. \n",
    "#----------------------------------------------------------------------------\n",
    "#  Solves linear system a x = b by the Gauss-Seidel method.\n",
    "#  Convergence is ensure by left-multiplying the system with a^T.\n",
    "#  a    - coefficient matrix (n x n)\n",
    "#  b    - vector of constant terms\n",
    "#  x    - initial approximation of solution (input); solution (output)\n",
    "#  n    - order of system\n",
    "#  err  - maximum relative error of the solution components\n",
    "#  init - initialization option: 0 - refines initial approximation \n",
    "#                                1 - initializes solution\n",
    "#----------------------------------------------------------------------------\n",
    "   eps = 1e-15                                 # relative precision criterion\n",
    "   itmax = 10000                                    # max no. of iterations\n",
    "\n",
    "   s = [[0]*(n) for i in range(n)]           # matrices of reduced system\n",
    "   t = [0]*(n)\n",
    "\n",
    "   for i in range(n):                         # matrices of normal system\n",
    "      for j in range(i+1):                      # by multiplication with aT\n",
    "         s[i][j] = 0e0                            # store result in s and t\n",
    "         for k in range(n): s[i][j] += a[k][i]*a[k][j]\n",
    "         s[j][i] = s[i][j]\n",
    "\n",
    "      t[i] = 0e0\n",
    "      for j in range(n): t[i] += a[j][i]*b[j]\n",
    "\n",
    "   for i in range(n):                # matrices s and t of reduced system\n",
    "      f = -1e0/s[i][i]; t[i] /= s[i][i]\n",
    "      for j in range(n): s[i][j] *= f\n",
    "\n",
    "   if (init):\n",
    "      for i in range(n): x[i] = t[i]                # initialize solution\n",
    "\n",
    "   for k in range(itmax):                            # loop of iterations\n",
    "      err = 0e0\n",
    "      for i in range(n):\n",
    "         delta = t[i]                                            # correction\n",
    "         for j in range(n): delta += s[i][j]*x[j]\n",
    "         x[i] += delta                        # new approximation to solution\n",
    "         if (x[i]): delta /= x[i]                            # relative error\n",
    "         if (np.fabs(delta) > err): err = np.fabs(delta)            # maximum error\n",
    "       #  print('delta,err',delta,err)\n",
    "            \n",
    "      if (err <= eps): break                              # check convergence\n",
    "\n",
    "   if (k > itmax-2): print(\"GaussSeidel: max. no. of iterations exceeded !\")\n",
    "\n",
    "   return err\n",
    "\n",
    "equation = np.array([[0.,2.,1.],[1.,-2.,-3.],[-1.,1.,2.]])\n",
    "answer = np.array([-8.,0.,3.])\n",
    "solution = np.array([1.,1.,1.])\n",
    "\n",
    "time_start = time.time()\n",
    "GaussSeidel(equation, answer, solution, 3, 1)\n",
    "t = time.time() - time_start\n",
    "print('x=',solution)\n",
    "print('Time', t)"
   ]
  },
  {
   "cell_type": "code",
   "execution_count": null,
   "metadata": {},
   "outputs": [],
   "source": []
  },
  {
   "cell_type": "code",
   "execution_count": null,
   "metadata": {},
   "outputs": [],
   "source": []
  }
 ],
 "metadata": {
  "kernelspec": {
   "display_name": "VPython",
   "language": "python",
   "name": "vpython"
  },
  "language_info": {
   "codemirror_mode": {
    "name": "ipython",
    "version": 3
   },
   "file_extension": ".py",
   "mimetype": "text/x-python",
   "name": "python",
   "nbconvert_exporter": "python",
   "pygments_lexer": "ipython3",
   "version": "3.7.1"
  }
 },
 "nbformat": 4,
 "nbformat_minor": 2
}
