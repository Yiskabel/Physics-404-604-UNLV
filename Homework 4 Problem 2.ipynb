{
 "cells": [
  {
   "cell_type": "markdown",
   "metadata": {},
   "source": [
    "# HW 4|Problem 2\n",
    "\n",
    "Find the solution for  \n",
    "\\begin{eqnarray}\n",
    "x_{1}^2+x_{1}x_{2}=10\\\\\n",
    "x_{2}+3x_{1}x_{2}^2=57\n",
    "\\end{eqnarray}"
   ]
  },
  {
   "cell_type": "code",
   "execution_count": 17,
   "metadata": {},
   "outputs": [
    {
     "data": {
      "image/png": "[encoded data removed]",
      "text/plain": [
       "<Figure size 432x288 with 1 Axes>"
      ]
     },
     "metadata": {
      "needs_background": "light"
     },
     "output_type": "display_data"
    }
   ],
   "source": [
    "#Here i intend to check that the values i get from my program coincide with a visual guess\n",
    "\n",
    "import matplotlib.pyplot as plt\n",
    "import numpy as np\n",
    "\n",
    "def f1(x):\n",
    "    return (10.-x*x)/x\n",
    "\n",
    "def f2(x):\n",
    "    return (-1+np.sqrt(1.+4.*3.*x*57))/6./x\n",
    "\n",
    "x = np.arange(10**-15,10,.1)\n",
    "plt.plot(x,f2(x))\n",
    "plt.plot(x,f1(x))\n",
    "plt.xlim(0,5)\n",
    "plt.ylim(0,5)\n",
    "plt.show()\n",
    "\n",
    "#guess x ~ [2,3]"
   ]
  },
  {
   "cell_type": "code",
   "execution_count": 15,
   "metadata": {},
   "outputs": [
    {
     "name": "stdout",
     "output_type": "stream",
     "text": [
      "[1.9999999999999998, 3.0000000000000004]\n"
     ]
    }
   ],
   "source": [
    "import matplotlib.pyplot as plt\n",
    "import numpy as np\n",
    "\n",
    "x = [-2,2] #You should be able to input any values and it will work. but if you input np.e or np.pi it does not\n",
    "memo = [0,0]\n",
    "def NR(x):\n",
    "    memo[0] = x[0]\n",
    "    memo[1] = x[1]\n",
    "    f = [0,0]\n",
    "    def F(x,f):\n",
    "        f[0]=x[0]*x[0]+x[0]*x[1]-10.\n",
    "        f[1]=x[1]+3.*x[0]*x[1]*x[1]-57.\n",
    "    \n",
    "    F(x,f)\n",
    "    \n",
    "    df = [0,0,0,0]\n",
    "    df_inverse = [0,0,0,0]\n",
    "    def dF_inverse(x,df,df_inverse):\n",
    "        df[0] = 2*x[0] + x[1]\n",
    "        df[1] = x[0]\n",
    "        df[2] = 3*x[1]\n",
    "        df[3] = 1 + 6*x[0]*x[1]\n",
    "        #D = df[0]*df[3] - df[1]*df[2]\n",
    "        df_inverse[0] = df[3]/(df[0]*df[3] - df[1]*df[2])\n",
    "        df_inverse[3] = df[0]/(df[0]*df[3] - df[1]*df[2])\n",
    "        df_inverse[1] = -df[1]/(df[0]*df[3] - df[1]*df[2])\n",
    "        df_inverse[2] = -df[2]/(df[0]*df[3] - df[1]*df[2])\n",
    "        \n",
    "    dF_inverse(x,df,df_inverse)\n",
    "    #print(f,df)\n",
    "    x[0] = x[0] - df_inverse[0]*f[0] - df_inverse[1]*f[1]\n",
    "    x[1] = x[1] - df_inverse[2]*f[0] - df_inverse[3]*f[1]\n",
    "    if x == memo:\n",
    "        return x\n",
    "    else:\n",
    "        NR(x)\n",
    "        \n",
    "NR(x)\n",
    "print(x)"
   ]
  },
  {
   "cell_type": "code",
   "execution_count": null,
   "metadata": {},
   "outputs": [],
   "source": []
  }
 ],
 "metadata": {
  "kernelspec": {
   "display_name": "Python 3",
   "language": "python",
   "name": "python3"
  },
  "language_info": {
   "codemirror_mode": {
    "name": "ipython",
    "version": 3
   },
   "file_extension": ".py",
   "mimetype": "text/x-python",
   "name": "python",
   "nbconvert_exporter": "python",
   "pygments_lexer": "ipython3",
   "version": "3.7.1"
  }
 },
 "nbformat": 4,
 "nbformat_minor": 2
}
