{
 "cells": [
  {
   "cell_type": "code",
   "execution_count": 1,
   "metadata": {},
   "outputs": [
    {
     "data": {
      "application/javascript": [
       "if (typeof Jupyter !== \"undefined\") {require.undef(\"nbextensions/vpython_libraries/glow.min\");}else{element.textContent = ' ';}"
      ],
      "text/plain": [
       "<IPython.core.display.Javascript object>"
      ]
     },
     "metadata": {},
     "output_type": "display_data"
    },
    {
     "data": {
      "application/javascript": [
       "if (typeof Jupyter !== \"undefined\") {require.undef(\"nbextensions/vpython_libraries/glowcomm\");}else{element.textContent = ' ';}"
      ],
      "text/plain": [
       "<IPython.core.display.Javascript object>"
      ]
     },
     "metadata": {},
     "output_type": "display_data"
    },
    {
     "data": {
      "application/javascript": [
       "if (typeof Jupyter !== \"undefined\") {require.undef(\"nbextensions/vpython_libraries/jquery-ui.custom.min\");}else{element.textContent = ' ';}"
      ],
      "text/plain": [
       "<IPython.core.display.Javascript object>"
      ]
     },
     "metadata": {},
     "output_type": "display_data"
    },
    {
     "data": {
      "application/javascript": [
       "if (typeof Jupyter !== \"undefined\") {require([\"nbextensions/vpython_libraries/glow.min\"], function(){console.log(\"GLOW LOADED\");});}else{element.textContent = ' ';}"
      ],
      "text/plain": [
       "<IPython.core.display.Javascript object>"
      ]
     },
     "metadata": {},
     "output_type": "display_data"
    },
    {
     "data": {
      "application/javascript": [
       "if (typeof Jupyter !== \"undefined\") {require([\"nbextensions/vpython_libraries/glowcomm\"], function(){console.log(\"GLOWCOMM LOADED\");});}else{element.textContent = ' ';}"
      ],
      "text/plain": [
       "<IPython.core.display.Javascript object>"
      ]
     },
     "metadata": {},
     "output_type": "display_data"
    },
    {
     "data": {
      "application/javascript": [
       "if (typeof Jupyter !== \"undefined\") {require([\"nbextensions/vpython_libraries/jquery-ui.custom.min\"], function(){console.log(\"JQUERY LOADED\");});}else{element.textContent = ' ';}"
      ],
      "text/plain": [
       "<IPython.core.display.Javascript object>"
      ]
     },
     "metadata": {},
     "output_type": "display_data"
    },
    {
     "data": {
      "text/html": [
       "<div id=\"glowscript\" class=\"glowscript\"></div>"
      ],
      "text/plain": [
       "<IPython.core.display.HTML object>"
      ]
     },
     "metadata": {},
     "output_type": "display_data"
    },
    {
     "data": {
      "application/javascript": [
       "if (typeof Jupyter !== \"undefined\") { window.__context = { glowscript_container: $(\"#glowscript\").removeAttr(\"id\")};}else{ element.textContent = ' ';}"
      ],
      "text/plain": [
       "<IPython.core.display.Javascript object>"
      ]
     },
     "metadata": {},
     "output_type": "display_data"
    },
    {
     "data": {
      "text/html": [
       "<div id=\"glowscript\" class=\"glowscript\"></div>"
      ],
      "text/plain": [
       "<IPython.core.display.HTML object>"
      ]
     },
     "metadata": {},
     "output_type": "display_data"
    },
    {
     "data": {
      "application/javascript": [
       "if (typeof Jupyter !== \"undefined\") { window.__context = { glowscript_container: $(\"#glowscript\").removeAttr(\"id\")};}else{ element.textContent = ' ';}"
      ],
      "text/plain": [
       "<IPython.core.display.Javascript object>"
      ]
     },
     "metadata": {},
     "output_type": "display_data"
    },
    {
     "data": {
      "text/plain": [
       "<Figure size 640x480 with 1 Axes>"
      ]
     },
     "metadata": {},
     "output_type": "display_data"
    }
   ],
   "source": [
    "#This is the code and graph solution to problem no1 from homework no1 in\n",
    "#Dr. Zhu's 404/604 class\n",
    "\n",
    "from vpython import *\n",
    "scene = canvas()\n",
    "\n",
    "import pylab as p\n",
    "from numpy import *\n",
    "\n",
    "x1 = arange(-pi,pi+pi/160,pi/160)                #here i am initializing the x-values requested for plotting\n",
    "x2 = x1                                             #here i am initializing the x-values requested for plotting\n",
    "x3 = x1                                             #here i am initializing the x-values requested for plotting \n",
    "\n",
    "f1 = 0                  #here i am initializing the y-values requested for plotting\n",
    "f2 = 0                  #here i am initializing the x-values requested for plotting\n",
    "f3 = 0                  #here i am initializing the x-values requested for plotting\n",
    "\n",
    "n1 = 12                 #these are the requested expansions +1 as necessary for the\n",
    "n2 = 22                 #range function   \n",
    "n3 = 32\n",
    "\n",
    "i1 = 1\n",
    "for i1 in range(1,n1,2):\n",
    "    c1 = i1\n",
    "    f1 = f1 + sin(c1*x1)/c1\n",
    "    #print(c1)\n",
    "#print(f1)\n",
    "f1 = 2*f1 + pi/2\n",
    "\n",
    "i2 = 1\n",
    "for i2 in range(1,n2,2):\n",
    "    c2 = i2\n",
    "    f2 = f2 + sin(c2*x2)/c2\n",
    "    #print(c2)\n",
    "#print(f2)\n",
    "f2 = 2*f2 + pi/2\n",
    "\n",
    "i3 = 1\n",
    "for i3 in range(1,n3,2):\n",
    "    c3 = i3\n",
    "    f3 = f3 + sin(c3*x3)/c3\n",
    "    #print(c3)\n",
    "#print(f3)\n",
    "f3 = 2*f3 + pi/2\n",
    "\n",
    "x4 = array([-pi,pi])\n",
    "f4 = array([pi/2,pi/2])\n",
    "p.title('Homework 1 Curves')\n",
    "p.xlabel('x-axis')\n",
    "p.ylabel('y-axis')\n",
    "\n",
    "p.plot(x1,f1)\n",
    "p.plot(x2,f2)\n",
    "p.plot(x3,f3)\n",
    "#p.plot(x4,f4)\n",
    "\n",
    "p.grid(True)\n",
    "p.show()\n"
   ]
  },
  {
   "cell_type": "code",
   "execution_count": 2,
   "metadata": {},
   "outputs": [
    {
     "data": {
      "text/html": [
       "<div id=\"glowscript\" class=\"glowscript\"></div>"
      ],
      "text/plain": [
       "<IPython.core.display.HTML object>"
      ]
     },
     "metadata": {},
     "output_type": "display_data"
    },
    {
     "data": {
      "application/javascript": [
       "if (typeof Jupyter !== \"undefined\") { window.__context = { glowscript_container: $(\"#glowscript\").removeAttr(\"id\")};}else{ element.textContent = ' ';}"
      ],
      "text/plain": [
       "<IPython.core.display.Javascript object>"
      ]
     },
     "metadata": {},
     "output_type": "display_data"
    }
   ],
   "source": [
    "#a simple animation to practice basic coding in vpython\n",
    "\n",
    "from vpython import *\n",
    "\n",
    "scene2 = canvas(title='Wonky Billiards',\n",
    "     width=600, height=400,\n",
    "     center=vector(-2,0,1), forward=vector(0,-0.5,-1), background=color.green)\n",
    "\n",
    "ball1 = sphere(pos = vector(-1,0,0), radius = 0.5, color = color.white)\n",
    "ball2 = sphere(pos = vector(-3,0,0), radius = 0.5, color = color.red)\n",
    "cue_stick = cylinder(pos = vector(1,0,0), axis = vector(15,0,0), radius = 0.1, color = color.magenta)\n",
    "\n",
    "r = cue_stick.pos\n",
    "\n",
    "while r.x > -0.5:\n",
    "    rate(15)\n",
    "    cue_stick.pos = r\n",
    "    r.x = r.x - 0.2\n",
    "\n",
    "r1 = ball1.pos\n",
    "\n",
    "while r1.x > -2.:\n",
    "    rate(15)\n",
    "    ball1.pos = r1\n",
    "    r1.x = r1.x - 0.2\n",
    "    \n",
    "r2 = ball2.pos\n",
    "\n",
    "while r2.x > -17.5:\n",
    "    rate(15)\n",
    "    ball2.pos = r2\n",
    "    r2.x = r2.x - 0.2"
   ]
  },
  {
   "cell_type": "code",
   "execution_count": null,
   "metadata": {},
   "outputs": [],
   "source": []
  }
 ],
 "metadata": {
  "kernelspec": {
   "display_name": "VPython",
   "language": "python",
   "name": "vpython"
  },
  "language_info": {
   "codemirror_mode": {
    "name": "ipython",
    "version": 3
   },
   "file_extension": ".py",
   "mimetype": "text/x-python",
   "name": "python",
   "nbconvert_exporter": "python",
   "pygments_lexer": "ipython3",
   "version": "3.7.1"
  }
 },
 "nbformat": 4,
 "nbformat_minor": 2
}
