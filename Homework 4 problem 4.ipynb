{
 "cells": [
  {
   "cell_type": "markdown",
   "metadata": {},
   "source": [
    "# HW4|Problem 4\n",
    "\n",
    "Here we analytically solve the system of linear differential equations:\n",
    "\n",
    "dx/dt = x - y/8 \n",
    "\n",
    "dy/dt = -2x + y \n",
    "\n",
    "by using linalg library function to find the eigenvalues and eigenvectors of the differential equation matrix."
   ]
  },
  {
   "cell_type": "code",
   "execution_count": 77,
   "metadata": {},
   "outputs": [
    {
     "name": "stdout",
     "output_type": "stream",
     "text": [
      "[ 1. -4.] [1. 4.]\n",
      "1.5 0.5000000000000001\n"
     ]
    }
   ],
   "source": [
    "from numpy import *\n",
    "D = array([[1,-1./8.],[-2.,1.]]) #Here explicitly write the matrix by taking the coefficients of x and y for each eq. \n",
    "\n",
    "eigenvalues, eigenmatrix = linalg.eig(D)\n",
    "a1 = eigenvalues[0]\n",
    "a2 = eigenvalues[1]\n",
    "\n",
    "#It might seem strange that I divided the eigenvectors by the minimum of its 2 elements, but I've done this because it is \n",
    "#not clear how linalg. does its calculation, yielding results that are difficult to recognize.\n",
    "coeff1 = eigenmatrix[:,0]/min(abs(eigenmatrix[:,0]))\n",
    "coeff2 = eigenmatrix[:,1]/min(eigenmatrix[:,1])\n",
    "print(coeff1,coeff2)\n",
    "print(a1,a2)"
   ]
  },
  {
   "cell_type": "markdown",
   "metadata": {},
   "source": [
    "Now that the eigenvalues and eigenvectors are recorded we just need to satisfy the following equation for the analytical solution\n",
    "\n",
    "\n",
    "\\begin{eqnarray}\n",
    "x(t) = c_{1}e^{a_{1}t}coeff1[0] + c_{2}e^{a_{2}t}coeff2[0]\\\\\n",
    "\\\\\n",
    "y(t) = c_{1}e^{a_{1}t}coeff1[1] + c_{2}e^{a_{2}t}coeff2[1]\\\\\n",
    "\\end{eqnarray}\n"
   ]
  },
  {
   "cell_type": "code",
   "execution_count": 78,
   "metadata": {},
   "outputs": [
    {
     "name": "stdout",
     "output_type": "stream",
     "text": [
      "coeff1[0] = 1.0\n",
      "coeff1[1] = -3.999999999999999\n",
      "coeff2[0] = 1.0\n",
      "coeff2[1] = 4.000000000000001\n",
      "a1 = 1.5\n",
      "a2 = 0.5000000000000001\n"
     ]
    }
   ],
   "source": [
    "print('coeff1[0] =', coeff1[0])\n",
    "print('coeff1[1] =', coeff1[1])\n",
    "print('coeff2[0] =', coeff1[0])\n",
    "print('coeff2[1] =', coeff2[1])\n",
    "print('a1 =', a1)\n",
    "print('a2 =', a2)"
   ]
  },
  {
   "cell_type": "markdown",
   "metadata": {},
   "source": [
    "So the general solution is\n",
    "\n",
    "\\begin{eqnarray}\n",
    "x(t) = c_{1}e^{1.5t} + c_{2}e^{0.5t}\\\\\n",
    "\\\\\n",
    "y(t) = c_{1}e^{1.5t}(-4) + c_{2}e^{0.5t}(4)\\\\\n",
    "\\end{eqnarray}"
   ]
  },
  {
   "cell_type": "code",
   "execution_count": null,
   "metadata": {},
   "outputs": [],
   "source": []
  }
 ],
 "metadata": {
  "kernelspec": {
   "display_name": "VPython",
   "language": "python",
   "name": "vpython"
  },
  "language_info": {
   "codemirror_mode": {
    "name": "ipython",
    "version": 3
   },
   "file_extension": ".py",
   "mimetype": "text/x-python",
   "name": "python",
   "nbconvert_exporter": "python",
   "pygments_lexer": "ipython3",
   "version": "3.7.1"
  }
 },
 "nbformat": 4,
 "nbformat_minor": 2
}
